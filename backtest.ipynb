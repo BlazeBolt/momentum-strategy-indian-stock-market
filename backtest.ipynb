{
 "cells": [
  {
   "cell_type": "code",
   "execution_count": 3,
   "id": "7482c474-649f-4552-ac29-58e491ad4b8c",
   "metadata": {},
   "outputs": [],
   "source": [
    "import yfinance as yf\n",
    "import pandas as pd\n",
    "import numpy as np\n",
    "from sqlalchemy import create_engine\n",
    "import matplotlib.pyplot as plt"
   ]
  },
  {
   "cell_type": "code",
   "execution_count": 4,
   "id": "964d756b-edd6-49ec-99cf-fcbfc4b1e163",
   "metadata": {},
   "outputs": [],
   "source": [
    "tickers = ['RELIANCE.BO', 'TCS.BO', 'INFY.BO', 'HDFCBANK.BO', 'HINDUNILVR.BO']\n",
    "start_date = '2023-01-01'\n",
    "end_date = pd.Timestamp.today().strftime('%Y-%m-%d')"
   ]
  },
  {
   "cell_type": "code",
   "execution_count": 6,
   "id": "343e115f-542d-421d-b704-ea637bc0617e",
   "metadata": {},
   "outputs": [
    {
     "name": "stderr",
     "output_type": "stream",
     "text": [
      "[*********************100%***********************]  5 of 5 completed\n"
     ]
    },
    {
     "data": {
      "text/html": [
       "<div>\n",
       "<style scoped>\n",
       "    .dataframe tbody tr th:only-of-type {\n",
       "        vertical-align: middle;\n",
       "    }\n",
       "\n",
       "    .dataframe tbody tr th {\n",
       "        vertical-align: top;\n",
       "    }\n",
       "\n",
       "    .dataframe thead th {\n",
       "        text-align: right;\n",
       "    }\n",
       "</style>\n",
       "<table border=\"1\" class=\"dataframe\">\n",
       "  <thead>\n",
       "    <tr style=\"text-align: right;\">\n",
       "      <th></th>\n",
       "      <th>RELIANCE.BO</th>\n",
       "      <th>TCS.BO</th>\n",
       "      <th>INFY.BO</th>\n",
       "      <th>HDFCBANK.BO</th>\n",
       "      <th>HINDUNILVR.BO</th>\n",
       "    </tr>\n",
       "    <tr>\n",
       "      <th>Date</th>\n",
       "      <th></th>\n",
       "      <th></th>\n",
       "      <th></th>\n",
       "      <th></th>\n",
       "      <th></th>\n",
       "    </tr>\n",
       "  </thead>\n",
       "  <tbody>\n",
       "    <tr>\n",
       "      <th>2023-01-02</th>\n",
       "      <td>1269.860229</td>\n",
       "      <td>3027.641113</td>\n",
       "      <td>1419.353271</td>\n",
       "      <td>1588.997070</td>\n",
       "      <td>2469.013916</td>\n",
       "    </tr>\n",
       "    <tr>\n",
       "      <th>2023-01-03</th>\n",
       "      <td>1260.910034</td>\n",
       "      <td>3074.254639</td>\n",
       "      <td>1417.723755</td>\n",
       "      <td>1599.286987</td>\n",
       "      <td>2451.884766</td>\n",
       "    </tr>\n",
       "    <tr>\n",
       "      <th>2023-01-04</th>\n",
       "      <td>1241.752319</td>\n",
       "      <td>3077.225830</td>\n",
       "      <td>1391.977539</td>\n",
       "      <td>1570.855591</td>\n",
       "      <td>2448.072998</td>\n",
       "    </tr>\n",
       "    <tr>\n",
       "      <th>2023-01-05</th>\n",
       "      <td>1239.459351</td>\n",
       "      <td>3073.790527</td>\n",
       "      <td>1373.633789</td>\n",
       "      <td>1560.272827</td>\n",
       "      <td>2491.016602</td>\n",
       "    </tr>\n",
       "    <tr>\n",
       "      <th>2023-01-06</th>\n",
       "      <td>1251.171021</td>\n",
       "      <td>2982.468262</td>\n",
       "      <td>1349.098022</td>\n",
       "      <td>1555.054688</td>\n",
       "      <td>2486.866699</td>\n",
       "    </tr>\n",
       "  </tbody>\n",
       "</table>\n",
       "</div>"
      ],
      "text/plain": [
       "            RELIANCE.BO       TCS.BO      INFY.BO  HDFCBANK.BO  HINDUNILVR.BO\n",
       "Date                                                                         \n",
       "2023-01-02  1269.860229  3027.641113  1419.353271  1588.997070    2469.013916\n",
       "2023-01-03  1260.910034  3074.254639  1417.723755  1599.286987    2451.884766\n",
       "2023-01-04  1241.752319  3077.225830  1391.977539  1570.855591    2448.072998\n",
       "2023-01-05  1239.459351  3073.790527  1373.633789  1560.272827    2491.016602\n",
       "2023-01-06  1251.171021  2982.468262  1349.098022  1555.054688    2486.866699"
      ]
     },
     "execution_count": 6,
     "metadata": {},
     "output_type": "execute_result"
    }
   ],
   "source": [
    "data = yf.download(tickers, start=start_date, end=end_date, group_by='ticker', auto_adjust=True)\n",
    "\n",
    "# Handle both single and multi-index formats\n",
    "if isinstance(data.columns, pd.MultiIndex):\n",
    "    adj_close = pd.DataFrame({ticker: data[ticker]['Close'] for ticker in tickers if ticker in data})\n",
    "else:\n",
    "    adj_close = data[['Close']]  # fallback in case of single ticker\n",
    "\n",
    "adj_close.dropna(how='all', inplace=True)\n",
    "adj_close.head()"
   ]
  },
  {
   "cell_type": "code",
   "execution_count": 7,
   "id": "ee168703-4675-40c0-82d0-d3b0c522591f",
   "metadata": {},
   "outputs": [],
   "source": [
    "# 3: Create SQL Database\n",
    "engine = create_engine('sqlite:///bse_momentum.db')  # Creates a local SQLite DB file"
   ]
  },
  {
   "cell_type": "code",
   "execution_count": 9,
   "id": "f8c1391e-5702-4730-a47b-25863114837c",
   "metadata": {},
   "outputs": [],
   "source": [
    "# 4: Populate SQL Database with Stock Data\n",
    "for ticker in tickers:\n",
    "    try:\n",
    "        df = data[ticker][['Close']].dropna().reset_index()\n",
    "        df.columns = ['Date', 'Close']\n",
    "        table_name = ticker.replace('.', '_')\n",
    "        df.to_sql(table_name, con=engine, if_exists='replace', index=False)\n",
    "    except Exception as e:\n",
    "        print(f\"Error storing {ticker}: {e}\")"
   ]
  },
  {
   "cell_type": "code",
   "execution_count": 10,
   "id": "179990b9-ec36-4392-a4ff-c706a1f10c36",
   "metadata": {},
   "outputs": [
    {
     "data": {
      "text/html": [
       "<div>\n",
       "<style scoped>\n",
       "    .dataframe tbody tr th:only-of-type {\n",
       "        vertical-align: middle;\n",
       "    }\n",
       "\n",
       "    .dataframe tbody tr th {\n",
       "        vertical-align: top;\n",
       "    }\n",
       "\n",
       "    .dataframe thead th {\n",
       "        text-align: right;\n",
       "    }\n",
       "</style>\n",
       "<table border=\"1\" class=\"dataframe\">\n",
       "  <thead>\n",
       "    <tr style=\"text-align: right;\">\n",
       "      <th></th>\n",
       "      <th>Date</th>\n",
       "      <th>Close</th>\n",
       "    </tr>\n",
       "  </thead>\n",
       "  <tbody>\n",
       "    <tr>\n",
       "      <th>0</th>\n",
       "      <td>2023-01-02 00:00:00.000000</td>\n",
       "      <td>1269.860229</td>\n",
       "    </tr>\n",
       "    <tr>\n",
       "      <th>1</th>\n",
       "      <td>2023-01-03 00:00:00.000000</td>\n",
       "      <td>1260.910034</td>\n",
       "    </tr>\n",
       "    <tr>\n",
       "      <th>2</th>\n",
       "      <td>2023-01-04 00:00:00.000000</td>\n",
       "      <td>1241.752319</td>\n",
       "    </tr>\n",
       "    <tr>\n",
       "      <th>3</th>\n",
       "      <td>2023-01-05 00:00:00.000000</td>\n",
       "      <td>1239.459351</td>\n",
       "    </tr>\n",
       "    <tr>\n",
       "      <th>4</th>\n",
       "      <td>2023-01-06 00:00:00.000000</td>\n",
       "      <td>1251.171021</td>\n",
       "    </tr>\n",
       "  </tbody>\n",
       "</table>\n",
       "</div>"
      ],
      "text/plain": [
       "                         Date        Close\n",
       "0  2023-01-02 00:00:00.000000  1269.860229\n",
       "1  2023-01-03 00:00:00.000000  1260.910034\n",
       "2  2023-01-04 00:00:00.000000  1241.752319\n",
       "3  2023-01-05 00:00:00.000000  1239.459351\n",
       "4  2023-01-06 00:00:00.000000  1251.171021"
      ]
     },
     "execution_count": 10,
     "metadata": {},
     "output_type": "execute_result"
    }
   ],
   "source": [
    "# 5: Example Query from SQL Database\n",
    "query = \"SELECT * FROM RELIANCE_BO\"\n",
    "reliance_df = pd.read_sql(query, engine)\n",
    "reliance_df.head()"
   ]
  },
  {
   "cell_type": "code",
   "execution_count": 11,
   "id": "3003da6d-824b-460c-9b4c-b04a1f80626e",
   "metadata": {},
   "outputs": [
    {
     "data": {
      "text/html": [
       "<div>\n",
       "<style scoped>\n",
       "    .dataframe tbody tr th:only-of-type {\n",
       "        vertical-align: middle;\n",
       "    }\n",
       "\n",
       "    .dataframe tbody tr th {\n",
       "        vertical-align: top;\n",
       "    }\n",
       "\n",
       "    .dataframe thead th {\n",
       "        text-align: right;\n",
       "    }\n",
       "</style>\n",
       "<table border=\"1\" class=\"dataframe\">\n",
       "  <thead>\n",
       "    <tr style=\"text-align: right;\">\n",
       "      <th></th>\n",
       "      <th>RELIANCE.BO</th>\n",
       "      <th>TCS.BO</th>\n",
       "      <th>INFY.BO</th>\n",
       "      <th>HDFCBANK.BO</th>\n",
       "      <th>HINDUNILVR.BO</th>\n",
       "    </tr>\n",
       "    <tr>\n",
       "      <th>Date</th>\n",
       "      <th></th>\n",
       "      <th></th>\n",
       "      <th></th>\n",
       "      <th></th>\n",
       "      <th></th>\n",
       "    </tr>\n",
       "  </thead>\n",
       "  <tbody>\n",
       "    <tr>\n",
       "      <th>2023-01-02</th>\n",
       "      <td>1269.860229</td>\n",
       "      <td>3027.641113</td>\n",
       "      <td>1419.353271</td>\n",
       "      <td>1588.997070</td>\n",
       "      <td>2469.013916</td>\n",
       "    </tr>\n",
       "    <tr>\n",
       "      <th>2023-01-03</th>\n",
       "      <td>1260.910034</td>\n",
       "      <td>3074.254639</td>\n",
       "      <td>1417.723755</td>\n",
       "      <td>1599.286987</td>\n",
       "      <td>2451.884766</td>\n",
       "    </tr>\n",
       "    <tr>\n",
       "      <th>2023-01-04</th>\n",
       "      <td>1241.752319</td>\n",
       "      <td>3077.225830</td>\n",
       "      <td>1391.977539</td>\n",
       "      <td>1570.855591</td>\n",
       "      <td>2448.072998</td>\n",
       "    </tr>\n",
       "    <tr>\n",
       "      <th>2023-01-05</th>\n",
       "      <td>1239.459351</td>\n",
       "      <td>3073.790527</td>\n",
       "      <td>1373.633789</td>\n",
       "      <td>1560.272827</td>\n",
       "      <td>2491.016602</td>\n",
       "    </tr>\n",
       "    <tr>\n",
       "      <th>2023-01-06</th>\n",
       "      <td>1251.171021</td>\n",
       "      <td>2982.468262</td>\n",
       "      <td>1349.098022</td>\n",
       "      <td>1555.054688</td>\n",
       "      <td>2486.866699</td>\n",
       "    </tr>\n",
       "  </tbody>\n",
       "</table>\n",
       "</div>"
      ],
      "text/plain": [
       "            RELIANCE.BO       TCS.BO      INFY.BO  HDFCBANK.BO  HINDUNILVR.BO\n",
       "Date                                                                         \n",
       "2023-01-02  1269.860229  3027.641113  1419.353271  1588.997070    2469.013916\n",
       "2023-01-03  1260.910034  3074.254639  1417.723755  1599.286987    2451.884766\n",
       "2023-01-04  1241.752319  3077.225830  1391.977539  1570.855591    2448.072998\n",
       "2023-01-05  1239.459351  3073.790527  1373.633789  1560.272827    2491.016602\n",
       "2023-01-06  1251.171021  2982.468262  1349.098022  1555.054688    2486.866699"
      ]
     },
     "execution_count": 11,
     "metadata": {},
     "output_type": "execute_result"
    }
   ],
   "source": [
    "# 6: Request All SQL Tables and Combine into One DataFrame\n",
    "df_dict = {}\n",
    "for ticker in tickers:\n",
    "    table = ticker.replace('.', '_')\n",
    "    df = pd.read_sql(f\"SELECT * FROM {table}\", engine)\n",
    "    df.set_index('Date', inplace=True)\n",
    "    df.index = pd.to_datetime(df.index)\n",
    "    df_dict[ticker] = df['Close']\n",
    "\n",
    "prices = pd.DataFrame(df_dict).sort_index()\n",
    "prices.head()"
   ]
  },
  {
   "cell_type": "code",
   "execution_count": 12,
   "id": "693fdc74-7838-4890-9057-755a3e66555e",
   "metadata": {},
   "outputs": [
    {
     "name": "stderr",
     "output_type": "stream",
     "text": [
      "C:\\Users\\LENOVO\\AppData\\Local\\Temp\\ipykernel_20784\\3535935844.py:2: FutureWarning: The default fill_method='pad' in DataFrame.pct_change is deprecated and will be removed in a future version. Either fill in any non-leading NA values prior to calling pct_change or specify 'fill_method=None' to not fill NA values.\n",
      "  returns = prices.pct_change().dropna()\n"
     ]
    },
    {
     "data": {
      "text/html": [
       "<div>\n",
       "<style scoped>\n",
       "    .dataframe tbody tr th:only-of-type {\n",
       "        vertical-align: middle;\n",
       "    }\n",
       "\n",
       "    .dataframe tbody tr th {\n",
       "        vertical-align: top;\n",
       "    }\n",
       "\n",
       "    .dataframe thead th {\n",
       "        text-align: right;\n",
       "    }\n",
       "</style>\n",
       "<table border=\"1\" class=\"dataframe\">\n",
       "  <thead>\n",
       "    <tr style=\"text-align: right;\">\n",
       "      <th></th>\n",
       "      <th>RELIANCE.BO</th>\n",
       "      <th>TCS.BO</th>\n",
       "      <th>INFY.BO</th>\n",
       "      <th>HDFCBANK.BO</th>\n",
       "      <th>HINDUNILVR.BO</th>\n",
       "    </tr>\n",
       "    <tr>\n",
       "      <th>Date</th>\n",
       "      <th></th>\n",
       "      <th></th>\n",
       "      <th></th>\n",
       "      <th></th>\n",
       "      <th></th>\n",
       "    </tr>\n",
       "  </thead>\n",
       "  <tbody>\n",
       "    <tr>\n",
       "      <th>2023-01-03</th>\n",
       "      <td>-0.007048</td>\n",
       "      <td>0.015396</td>\n",
       "      <td>-0.001148</td>\n",
       "      <td>0.006476</td>\n",
       "      <td>-0.006938</td>\n",
       "    </tr>\n",
       "    <tr>\n",
       "      <th>2023-01-04</th>\n",
       "      <td>-0.015194</td>\n",
       "      <td>0.000966</td>\n",
       "      <td>-0.018160</td>\n",
       "      <td>-0.017778</td>\n",
       "      <td>-0.001555</td>\n",
       "    </tr>\n",
       "    <tr>\n",
       "      <th>2023-01-05</th>\n",
       "      <td>-0.001847</td>\n",
       "      <td>-0.001116</td>\n",
       "      <td>-0.013178</td>\n",
       "      <td>-0.006737</td>\n",
       "      <td>0.017542</td>\n",
       "    </tr>\n",
       "    <tr>\n",
       "      <th>2023-01-06</th>\n",
       "      <td>0.009449</td>\n",
       "      <td>-0.029710</td>\n",
       "      <td>-0.017862</td>\n",
       "      <td>-0.003344</td>\n",
       "      <td>-0.001666</td>\n",
       "    </tr>\n",
       "    <tr>\n",
       "      <th>2023-01-09</th>\n",
       "      <td>0.023372</td>\n",
       "      <td>0.033531</td>\n",
       "      <td>0.024606</td>\n",
       "      <td>0.001913</td>\n",
       "      <td>0.017676</td>\n",
       "    </tr>\n",
       "  </tbody>\n",
       "</table>\n",
       "</div>"
      ],
      "text/plain": [
       "            RELIANCE.BO    TCS.BO   INFY.BO  HDFCBANK.BO  HINDUNILVR.BO\n",
       "Date                                                                   \n",
       "2023-01-03    -0.007048  0.015396 -0.001148     0.006476      -0.006938\n",
       "2023-01-04    -0.015194  0.000966 -0.018160    -0.017778      -0.001555\n",
       "2023-01-05    -0.001847 -0.001116 -0.013178    -0.006737       0.017542\n",
       "2023-01-06     0.009449 -0.029710 -0.017862    -0.003344      -0.001666\n",
       "2023-01-09     0.023372  0.033531  0.024606     0.001913       0.017676"
      ]
     },
     "execution_count": 12,
     "metadata": {},
     "output_type": "execute_result"
    }
   ],
   "source": [
    "# 7: Final Cleaned DataFrame\n",
    "returns = prices.pct_change().dropna()\n",
    "returns.head()"
   ]
  },
  {
   "cell_type": "code",
   "execution_count": 13,
   "id": "7da1ffe4-3467-47a2-a41e-908f82b4c370",
   "metadata": {},
   "outputs": [
    {
     "name": "stdout",
     "output_type": "stream",
     "text": [
      "Top Momentum Stocks on 2025-03-24 : ['RELIANCE.BO', 'HDFCBANK.BO']\n"
     ]
    },
    {
     "name": "stderr",
     "output_type": "stream",
     "text": [
      "C:\\Users\\LENOVO\\AppData\\Local\\Temp\\ipykernel_20784\\2800677615.py:3: FutureWarning: The default fill_method='pad' in DataFrame.pct_change is deprecated and will be removed in a future version. Either fill in any non-leading NA values prior to calling pct_change or specify 'fill_method=None' to not fill NA values.\n",
      "  past_returns = prices.loc[:formation_date].pct_change(63).iloc[-1]  # 3-month momentum\n"
     ]
    }
   ],
   "source": [
    "# 8: Momentum Strategy — Single Formation Date\n",
    "formation_date = prices.index[-60]  # pick date 60 days before last\n",
    "past_returns = prices.loc[:formation_date].pct_change(63).iloc[-1]  # 3-month momentum\n",
    "top_n = 2\n",
    "top_stocks = past_returns.sort_values(ascending=False).head(top_n).index.tolist()\n",
    "print(\"Top Momentum Stocks on\", formation_date.date(), \":\", top_stocks)"
   ]
  },
  {
   "cell_type": "code",
   "execution_count": 14,
   "id": "54a2098c-bb9a-45d8-a8ce-318d828683f9",
   "metadata": {},
   "outputs": [],
   "source": [
    "# 📌 Step9: Construct Momentum Strategy Function\n",
    "\n",
    "def momentum_strategy(prices, formation_days=63, holding_days=21, top_n=3):\n",
    "    signals = []\n",
    "    returns = []\n",
    "\n",
    "    dates = prices.index[formation_days::holding_days]\n",
    "    for i in range(len(dates) - 1):\n",
    "        date = dates[i]\n",
    "        next_date = dates[i + 1]\n",
    "\n",
    "        past_prices = prices.loc[:date].iloc[-formation_days:]\n",
    "        momentum = past_prices.iloc[-1] / past_prices.iloc[0] - 1\n",
    "        top_stocks = momentum.sort_values(ascending=False).head(top_n).index\n",
    "\n",
    "        entry_prices = prices.loc[date, top_stocks]\n",
    "        exit_prices = prices.loc[next_date, top_stocks]\n",
    "\n",
    "        ret = (exit_prices.values / entry_prices.values - 1).mean()\n",
    "\n",
    "        signals.append(date)\n",
    "        returns.append(ret)\n",
    "\n",
    "    result = pd.DataFrame({'date': signals, 'return': returns})\n",
    "    result.set_index('date', inplace=True)\n",
    "    result['cumulative'] = (1 + result['return']).cumprod()\n",
    "    return result"
   ]
  },
  {
   "cell_type": "code",
   "execution_count": 15,
   "id": "aee6d025-2872-4b50-865b-0bfc52dc6b17",
   "metadata": {},
   "outputs": [
    {
     "data": {
      "image/png": "[encoded data removed]",
      "text/plain": [
       "<Figure size 1000x500 with 1 Axes>"
      ]
     },
     "metadata": {},
     "output_type": "display_data"
    }
   ],
   "source": [
    "# 📌 Step 10: Backtest the Strategy\n",
    "backtest_df = momentum_strategy(prices, top_n=2)\n",
    "backtest_df.plot(title=\"Momentum Strategy Backtest on BSE (Top 2 stocks)\", figsize=(10, 5))\n",
    "plt.ylabel(\"Cumulative Returns\")\n",
    "plt.grid(True)\n",
    "plt.show()"
   ]
  },
  {
   "cell_type": "code",
   "execution_count": null,
   "id": "3fcac258-9a84-4448-816e-0e5ccd8f77fd",
   "metadata": {},
   "outputs": [],
   "source": []
  }
 ],
 "metadata": {
  "kernelspec": {
   "display_name": "Python [conda env:base] *",
   "language": "python",
   "name": "conda-base-py"
  },
  "language_info": {
   "codemirror_mode": {
    "name": "ipython",
    "version": 3
   },
   "file_extension": ".py",
   "mimetype": "text/x-python",
   "name": "python",
   "nbconvert_exporter": "python",
   "pygments_lexer": "ipython3",
   "version": "3.12.7"
  }
 },
 "nbformat": 4,
 "nbformat_minor": 5
}
